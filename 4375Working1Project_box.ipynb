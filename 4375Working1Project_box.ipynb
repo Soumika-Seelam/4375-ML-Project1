{
  "nbformat": 4,
  "nbformat_minor": 0,
  "metadata": {
    "colab": {
      "provenance": []
    },
    "kernelspec": {
      "name": "python3",
      "display_name": "Python 3"
    },
    "language_info": {
      "name": "python"
    }
  },
  "cells": [
    {
      "cell_type": "markdown",
      "source": [
        "# **Gene Expression Analysis Using Deep Learning**\n"
      ],
      "metadata": {
        "id": "jebOu3iZxScX"
      }
    },
    {
      "cell_type": "markdown",
      "source": [
        "## Dataset Preprocessing"
      ],
      "metadata": {
        "id": "628DuhcfxWew"
      }
    },
    {
      "cell_type": "code",
      "execution_count": 1,
      "metadata": {
        "colab": {
          "base_uri": "https://localhost:8080/"
        },
        "id": "2ziSdaGJlwKg",
        "outputId": "c5c99543-966d-4b7f-e70b-5d85e20e2aea"
      },
      "outputs": [
        {
          "output_type": "stream",
          "name": "stdout",
          "text": [
            "--2024-11-25 04:40:31--  https://utdallas.box.com/shared/static/e2ncuey8m6ats99dm2jajpbu5helr8wi.gz\n",
            "Resolving utdallas.box.com (utdallas.box.com)... 74.112.186.157\n",
            "Connecting to utdallas.box.com (utdallas.box.com)|74.112.186.157|:443... connected.\n",
            "HTTP request sent, awaiting response... 301 Moved Permanently\n",
            "Location: /public/static/e2ncuey8m6ats99dm2jajpbu5helr8wi.gz [following]\n",
            "--2024-11-25 04:40:31--  https://utdallas.box.com/public/static/e2ncuey8m6ats99dm2jajpbu5helr8wi.gz\n",
            "Reusing existing connection to utdallas.box.com:443.\n",
            "HTTP request sent, awaiting response... 301 Moved Permanently\n",
            "Location: https://utdallas.app.box.com/public/static/e2ncuey8m6ats99dm2jajpbu5helr8wi.gz [following]\n",
            "--2024-11-25 04:40:32--  https://utdallas.app.box.com/public/static/e2ncuey8m6ats99dm2jajpbu5helr8wi.gz\n",
            "Resolving utdallas.app.box.com (utdallas.app.box.com)... 74.112.186.157\n",
            "Connecting to utdallas.app.box.com (utdallas.app.box.com)|74.112.186.157|:443... connected.\n",
            "HTTP request sent, awaiting response... 302 Found\n",
            "Location: https://public.boxcloud.com/d/1/b1!-hNmDBgXF1qAyZmUR3pyl7VJS7Q00Act7lVWT5Kg_VeeZ4ywzNR0DJwde0W85nYTcSMrMFkdg9Me-IpZiJEoSHZAHKdkXdODhcOdTTsmPPja6_m7hrno2rT8GGXant59LvbVbETfU4sGZwBpJIdDdUMOJ-7IJpVBb2dTWyeR3OnTeI005alruzNO5eivUZEVnN9roGQHnHSem3mOcLxlLhfAEmTkEeBAcPJ0nEuR0BFcvhtIDCLkgP-j-MSv6poRyJ6cUZfWPEFSYDnokMC30q8-9PyrSjHV0YNWK9PHV0vYG-Nj61t97KEdPyMP7FzrvS3EEIbb1GorVpHyvLMxRaoEqHSTiKKtOyypmiEEEcNgDIjvzd7L3UrSn79hVGDyfzfwhwc4L5rGELi9T1vJyMNlRvCd_q87HGeR1oPjUlikWty6kB8SuYfLCIAYHWNpJ5kGRY231XN7cnJTG-LrBRZyxM4qXVaa0wIBCxp9RV3sxpjrj-6KCVpf-Z61aOkCYGfh07e7_JjsCnheRjP3nF7zo70lgxA2NnZOrXFs66U4fanv_OXKkj_oZMPHeV3JRrJt85rNL47gJJYYlLhUEGBZXWR8VeE1NvyAqu1qigkbESQbzMIqHpSJSaluXIwplaBlnbpxZAdLm9V_Ja668l84C5HK4Z-sszyZsSRhPs1cZwmIsYkxZCxa6iOOC2RyfKaGoAMNJ1Icw1SSDQvP2raoeIyDIJoDbbMiMuAUJxsjmEU27Hh5mlmxq3SeUbZ48OfLLzKzA1Iobgp6VDVQ6qAMbXFVCvtCfOjCM8855gqKExRD7dEIuhq_wpKQLIbiypQt9lXTrclLckF9_kbyKxd7WED1S6OqQJUTZ3rElI6b1HJAMIDeuqlekBi13EMN2DlKqzkoO8g5v3HyENM_GlU-PO496rk7VvjyELIUY3XI7Y2eh-8MXPsXsjxBf0MkItGn92THeZtMT5MuAnlvhMt8jzAaFfSF6agnjXGQ2HUDK-Z0oBYG1xPMV8-n2OeEMwa9pQjUjJPBlVGXpo_gOsih_vlzckc-mL5WOySuKOSmQd7IqupVzJTDNL77-cAMu84iNdoFIyRTuI-K9GZeGy9ElkMMSYFSeuSEDVCNUEpDS07G7Zy3sL1WLp_xO-v6Yrmp0rAsvnRi6dVbRtyo-EP4-29SOoZYlQl1qjU7Cv3W-FqsojQEx5P8FJWdrSf6OTFlYTEQiqYNBvtMTCJ6MW2vk_XndYQA6lNebu2584z96hmcuEqy7T7U7eCtzdJeJjQYPAR9lU_Gjk0umknNEJ5owzigknJ9KCA3VRGv5IZrhnQRdS5wEAAmCn9jl6i98E_E6IXZw57wIZrNxHRoNp401w4AxWbX2B3D-tkzfTeaRpAi5loECQsOMCqSu9lHZy58jLjNfQ../download [following]\n",
            "--2024-11-25 04:40:33--  https://public.boxcloud.com/d/1/b1!-hNmDBgXF1qAyZmUR3pyl7VJS7Q00Act7lVWT5Kg_VeeZ4ywzNR0DJwde0W85nYTcSMrMFkdg9Me-IpZiJEoSHZAHKdkXdODhcOdTTsmPPja6_m7hrno2rT8GGXant59LvbVbETfU4sGZwBpJIdDdUMOJ-7IJpVBb2dTWyeR3OnTeI005alruzNO5eivUZEVnN9roGQHnHSem3mOcLxlLhfAEmTkEeBAcPJ0nEuR0BFcvhtIDCLkgP-j-MSv6poRyJ6cUZfWPEFSYDnokMC30q8-9PyrSjHV0YNWK9PHV0vYG-Nj61t97KEdPyMP7FzrvS3EEIbb1GorVpHyvLMxRaoEqHSTiKKtOyypmiEEEcNgDIjvzd7L3UrSn79hVGDyfzfwhwc4L5rGELi9T1vJyMNlRvCd_q87HGeR1oPjUlikWty6kB8SuYfLCIAYHWNpJ5kGRY231XN7cnJTG-LrBRZyxM4qXVaa0wIBCxp9RV3sxpjrj-6KCVpf-Z61aOkCYGfh07e7_JjsCnheRjP3nF7zo70lgxA2NnZOrXFs66U4fanv_OXKkj_oZMPHeV3JRrJt85rNL47gJJYYlLhUEGBZXWR8VeE1NvyAqu1qigkbESQbzMIqHpSJSaluXIwplaBlnbpxZAdLm9V_Ja668l84C5HK4Z-sszyZsSRhPs1cZwmIsYkxZCxa6iOOC2RyfKaGoAMNJ1Icw1SSDQvP2raoeIyDIJoDbbMiMuAUJxsjmEU27Hh5mlmxq3SeUbZ48OfLLzKzA1Iobgp6VDVQ6qAMbXFVCvtCfOjCM8855gqKExRD7dEIuhq_wpKQLIbiypQt9lXTrclLckF9_kbyKxd7WED1S6OqQJUTZ3rElI6b1HJAMIDeuqlekBi13EMN2DlKqzkoO8g5v3HyENM_GlU-PO496rk7VvjyELIUY3XI7Y2eh-8MXPsXsjxBf0MkItGn92THeZtMT5MuAnlvhMt8jzAaFfSF6agnjXGQ2HUDK-Z0oBYG1xPMV8-n2OeEMwa9pQjUjJPBlVGXpo_gOsih_vlzckc-mL5WOySuKOSmQd7IqupVzJTDNL77-cAMu84iNdoFIyRTuI-K9GZeGy9ElkMMSYFSeuSEDVCNUEpDS07G7Zy3sL1WLp_xO-v6Yrmp0rAsvnRi6dVbRtyo-EP4-29SOoZYlQl1qjU7Cv3W-FqsojQEx5P8FJWdrSf6OTFlYTEQiqYNBvtMTCJ6MW2vk_XndYQA6lNebu2584z96hmcuEqy7T7U7eCtzdJeJjQYPAR9lU_Gjk0umknNEJ5owzigknJ9KCA3VRGv5IZrhnQRdS5wEAAmCn9jl6i98E_E6IXZw57wIZrNxHRoNp401w4AxWbX2B3D-tkzfTeaRpAi5loECQsOMCqSu9lHZy58jLjNfQ../download\n",
            "Resolving public.boxcloud.com (public.boxcloud.com)... 74.112.186.165, 2620:117:bff0:69::\n",
            "Connecting to public.boxcloud.com (public.boxcloud.com)|74.112.186.165|:443... connected.\n",
            "HTTP request sent, awaiting response... 200 OK\n",
            "Length: 159929741 (153M) [application/octet-stream]\n",
            "Saving to: ‘TCGA-UCEC.star_tpm.tsv.gz’\n",
            "\n",
            "TCGA-UCEC.star_tpm. 100%[===================>] 152.52M  22.9MB/s    in 7.4s    \n",
            "\n",
            "2024-11-25 04:40:41 (20.7 MB/s) - ‘TCGA-UCEC.star_tpm.tsv.gz’ saved [159929741/159929741]\n",
            "\n",
            "TCGA-UCEC.star_tpm.tsv.gz: gzip compressed data, was \"TCGA-UCEC.star_tpm.tsv\", last modified: Thu May  9 21:13:58 2024, from Unix, original size modulo 2^32 413706658\n",
            "sample_data  TCGA-UCEC.star_tpm.tsv\n"
          ]
        }
      ],
      "source": [
        "# first we are downloading the dataset from the GDC (from USC specific website which has focused UCEC dataset)\n",
        "# hosting the dataset to box so no need to reupload every session\n",
        "!wget -O TCGA-UCEC.star_tpm.tsv.gz \"https://utdallas.box.com/shared/static/e2ncuey8m6ats99dm2jajpbu5helr8wi.gz\"\n",
        "!file TCGA-UCEC.star_tpm.tsv.gz\n",
        "\n",
        "# unzipping the file in google colab\n",
        "# when running for the first time, answer yes to the question \"do you wish to overwrite (y or n)?\"\n",
        "# can say n every time after that!\n",
        "!gunzip TCGA-UCEC.star_tpm.tsv.gz\n",
        "!ls"
      ]
    },
    {
      "cell_type": "markdown",
      "source": [
        "### Loading Data"
      ],
      "metadata": {
        "id": "HJBUzae4xZes"
      }
    },
    {
      "cell_type": "code",
      "source": [
        "import pandas as pd\n",
        "\n",
        "# then we are loading the TSV file that has all of the project values separated by tabs\n",
        "file_name = 'TCGA-UCEC.star_tpm.tsv'\n",
        "data = pd.read_csv(file_name, sep='\\t')\n",
        "\n",
        "# here we are showing the first five rows of the database to see what they look like\n",
        "data.head()"
      ],
      "metadata": {
        "id": "tte4KVOXxapU",
        "colab": {
          "base_uri": "https://localhost:8080/",
          "height": 278
        },
        "outputId": "ffbd6704-ab2b-4f4e-d2c0-391deba6a6b0"
      },
      "execution_count": 3,
      "outputs": [
        {
          "output_type": "execute_result",
          "data": {
            "text/plain": [
              "           Ensembl_ID  TCGA-FI-A3PX-01A  TCGA-BG-A221-01A  TCGA-EY-A1GK-01A  \\\n",
              "0  ENSG00000000003.15          6.591445          5.483593          5.569616   \n",
              "1   ENSG00000000005.6          0.394734          0.000000          0.201759   \n",
              "2  ENSG00000000419.13          7.515168          6.029596          5.825315   \n",
              "3  ENSG00000000457.14          2.521955          2.407978          3.249840   \n",
              "4  ENSG00000000460.17          3.032260          2.382114          1.831999   \n",
              "\n",
              "   TCGA-BG-A2AE-01A  TCGA-AX-A1CE-01A  TCGA-DI-A2QY-01A  TCGA-D1-A1O8-01A  \\\n",
              "0          5.567250          6.887587          6.642866          3.860665   \n",
              "1          0.468218          0.921589          0.052138          0.753605   \n",
              "2          5.738738          6.328880          5.967869          5.306991   \n",
              "3          2.812087          2.644779          1.747989          2.296604   \n",
              "4          1.869635          1.788226          1.358678          1.687867   \n",
              "\n",
              "   TCGA-EY-A3QX-01A  TCGA-DI-A0WH-01A  ...  TCGA-E6-A1LX-01A  \\\n",
              "0          5.520353          5.337290  ...          4.857563   \n",
              "1          0.301471          0.274888  ...          0.129876   \n",
              "2          5.870520          4.538737  ...          6.385633   \n",
              "3          2.951718          2.766765  ...          2.681427   \n",
              "4          3.251492          1.997220  ...          2.395858   \n",
              "\n",
              "   TCGA-FI-A3PV-01A  TCGA-BG-A0MT-01A  TCGA-EY-A549-01A  TCGA-D1-A1O7-01A  \\\n",
              "0          6.407465          6.599611          5.898457          6.209582   \n",
              "1          0.000000          0.265677          0.052138          0.107956   \n",
              "2          6.833120          6.355259          6.460367          5.829857   \n",
              "3          2.693230          3.512012          3.586092          2.153708   \n",
              "4          2.304044          3.133399          1.629613          1.971038   \n",
              "\n",
              "   TCGA-AJ-A3NF-01A  TCGA-BK-A0C9-01A  TCGA-AJ-A5DW-01A  TCGA-AP-A05J-01A  \\\n",
              "0          6.694986          5.275748          6.882687          5.399168   \n",
              "1          0.196481          0.142609          0.403377          0.999856   \n",
              "2          6.632550          4.397789          7.062093          4.534890   \n",
              "3          2.951327          2.625341          3.244156          1.391383   \n",
              "4          2.702658          2.339052          3.142479          1.539432   \n",
              "\n",
              "   TCGA-D1-A103-01A  \n",
              "0          5.770443  \n",
              "1          0.107152  \n",
              "2          5.799124  \n",
              "3          2.827921  \n",
              "4          2.166137  \n",
              "\n",
              "[5 rows x 586 columns]"
            ],
            "text/html": [
              "\n",
              "  <div id=\"df-34d01232-31ec-4a8e-92c5-e214e4d736eb\" class=\"colab-df-container\">\n",
              "    <div>\n",
              "<style scoped>\n",
              "    .dataframe tbody tr th:only-of-type {\n",
              "        vertical-align: middle;\n",
              "    }\n",
              "\n",
              "    .dataframe tbody tr th {\n",
              "        vertical-align: top;\n",
              "    }\n",
              "\n",
              "    .dataframe thead th {\n",
              "        text-align: right;\n",
              "    }\n",
              "</style>\n",
              "<table border=\"1\" class=\"dataframe\">\n",
              "  <thead>\n",
              "    <tr style=\"text-align: right;\">\n",
              "      <th></th>\n",
              "      <th>Ensembl_ID</th>\n",
              "      <th>TCGA-FI-A3PX-01A</th>\n",
              "      <th>TCGA-BG-A221-01A</th>\n",
              "      <th>TCGA-EY-A1GK-01A</th>\n",
              "      <th>TCGA-BG-A2AE-01A</th>\n",
              "      <th>TCGA-AX-A1CE-01A</th>\n",
              "      <th>TCGA-DI-A2QY-01A</th>\n",
              "      <th>TCGA-D1-A1O8-01A</th>\n",
              "      <th>TCGA-EY-A3QX-01A</th>\n",
              "      <th>TCGA-DI-A0WH-01A</th>\n",
              "      <th>...</th>\n",
              "      <th>TCGA-E6-A1LX-01A</th>\n",
              "      <th>TCGA-FI-A3PV-01A</th>\n",
              "      <th>TCGA-BG-A0MT-01A</th>\n",
              "      <th>TCGA-EY-A549-01A</th>\n",
              "      <th>TCGA-D1-A1O7-01A</th>\n",
              "      <th>TCGA-AJ-A3NF-01A</th>\n",
              "      <th>TCGA-BK-A0C9-01A</th>\n",
              "      <th>TCGA-AJ-A5DW-01A</th>\n",
              "      <th>TCGA-AP-A05J-01A</th>\n",
              "      <th>TCGA-D1-A103-01A</th>\n",
              "    </tr>\n",
              "  </thead>\n",
              "  <tbody>\n",
              "    <tr>\n",
              "      <th>0</th>\n",
              "      <td>ENSG00000000003.15</td>\n",
              "      <td>6.591445</td>\n",
              "      <td>5.483593</td>\n",
              "      <td>5.569616</td>\n",
              "      <td>5.567250</td>\n",
              "      <td>6.887587</td>\n",
              "      <td>6.642866</td>\n",
              "      <td>3.860665</td>\n",
              "      <td>5.520353</td>\n",
              "      <td>5.337290</td>\n",
              "      <td>...</td>\n",
              "      <td>4.857563</td>\n",
              "      <td>6.407465</td>\n",
              "      <td>6.599611</td>\n",
              "      <td>5.898457</td>\n",
              "      <td>6.209582</td>\n",
              "      <td>6.694986</td>\n",
              "      <td>5.275748</td>\n",
              "      <td>6.882687</td>\n",
              "      <td>5.399168</td>\n",
              "      <td>5.770443</td>\n",
              "    </tr>\n",
              "    <tr>\n",
              "      <th>1</th>\n",
              "      <td>ENSG00000000005.6</td>\n",
              "      <td>0.394734</td>\n",
              "      <td>0.000000</td>\n",
              "      <td>0.201759</td>\n",
              "      <td>0.468218</td>\n",
              "      <td>0.921589</td>\n",
              "      <td>0.052138</td>\n",
              "      <td>0.753605</td>\n",
              "      <td>0.301471</td>\n",
              "      <td>0.274888</td>\n",
              "      <td>...</td>\n",
              "      <td>0.129876</td>\n",
              "      <td>0.000000</td>\n",
              "      <td>0.265677</td>\n",
              "      <td>0.052138</td>\n",
              "      <td>0.107956</td>\n",
              "      <td>0.196481</td>\n",
              "      <td>0.142609</td>\n",
              "      <td>0.403377</td>\n",
              "      <td>0.999856</td>\n",
              "      <td>0.107152</td>\n",
              "    </tr>\n",
              "    <tr>\n",
              "      <th>2</th>\n",
              "      <td>ENSG00000000419.13</td>\n",
              "      <td>7.515168</td>\n",
              "      <td>6.029596</td>\n",
              "      <td>5.825315</td>\n",
              "      <td>5.738738</td>\n",
              "      <td>6.328880</td>\n",
              "      <td>5.967869</td>\n",
              "      <td>5.306991</td>\n",
              "      <td>5.870520</td>\n",
              "      <td>4.538737</td>\n",
              "      <td>...</td>\n",
              "      <td>6.385633</td>\n",
              "      <td>6.833120</td>\n",
              "      <td>6.355259</td>\n",
              "      <td>6.460367</td>\n",
              "      <td>5.829857</td>\n",
              "      <td>6.632550</td>\n",
              "      <td>4.397789</td>\n",
              "      <td>7.062093</td>\n",
              "      <td>4.534890</td>\n",
              "      <td>5.799124</td>\n",
              "    </tr>\n",
              "    <tr>\n",
              "      <th>3</th>\n",
              "      <td>ENSG00000000457.14</td>\n",
              "      <td>2.521955</td>\n",
              "      <td>2.407978</td>\n",
              "      <td>3.249840</td>\n",
              "      <td>2.812087</td>\n",
              "      <td>2.644779</td>\n",
              "      <td>1.747989</td>\n",
              "      <td>2.296604</td>\n",
              "      <td>2.951718</td>\n",
              "      <td>2.766765</td>\n",
              "      <td>...</td>\n",
              "      <td>2.681427</td>\n",
              "      <td>2.693230</td>\n",
              "      <td>3.512012</td>\n",
              "      <td>3.586092</td>\n",
              "      <td>2.153708</td>\n",
              "      <td>2.951327</td>\n",
              "      <td>2.625341</td>\n",
              "      <td>3.244156</td>\n",
              "      <td>1.391383</td>\n",
              "      <td>2.827921</td>\n",
              "    </tr>\n",
              "    <tr>\n",
              "      <th>4</th>\n",
              "      <td>ENSG00000000460.17</td>\n",
              "      <td>3.032260</td>\n",
              "      <td>2.382114</td>\n",
              "      <td>1.831999</td>\n",
              "      <td>1.869635</td>\n",
              "      <td>1.788226</td>\n",
              "      <td>1.358678</td>\n",
              "      <td>1.687867</td>\n",
              "      <td>3.251492</td>\n",
              "      <td>1.997220</td>\n",
              "      <td>...</td>\n",
              "      <td>2.395858</td>\n",
              "      <td>2.304044</td>\n",
              "      <td>3.133399</td>\n",
              "      <td>1.629613</td>\n",
              "      <td>1.971038</td>\n",
              "      <td>2.702658</td>\n",
              "      <td>2.339052</td>\n",
              "      <td>3.142479</td>\n",
              "      <td>1.539432</td>\n",
              "      <td>2.166137</td>\n",
              "    </tr>\n",
              "  </tbody>\n",
              "</table>\n",
              "<p>5 rows × 586 columns</p>\n",
              "</div>\n",
              "    <div class=\"colab-df-buttons\">\n",
              "\n",
              "  <div class=\"colab-df-container\">\n",
              "    <button class=\"colab-df-convert\" onclick=\"convertToInteractive('df-34d01232-31ec-4a8e-92c5-e214e4d736eb')\"\n",
              "            title=\"Convert this dataframe to an interactive table.\"\n",
              "            style=\"display:none;\">\n",
              "\n",
              "  <svg xmlns=\"http://www.w3.org/2000/svg\" height=\"24px\" viewBox=\"0 -960 960 960\">\n",
              "    <path d=\"M120-120v-720h720v720H120Zm60-500h600v-160H180v160Zm220 220h160v-160H400v160Zm0 220h160v-160H400v160ZM180-400h160v-160H180v160Zm440 0h160v-160H620v160ZM180-180h160v-160H180v160Zm440 0h160v-160H620v160Z\"/>\n",
              "  </svg>\n",
              "    </button>\n",
              "\n",
              "  <style>\n",
              "    .colab-df-container {\n",
              "      display:flex;\n",
              "      gap: 12px;\n",
              "    }\n",
              "\n",
              "    .colab-df-convert {\n",
              "      background-color: #E8F0FE;\n",
              "      border: none;\n",
              "      border-radius: 50%;\n",
              "      cursor: pointer;\n",
              "      display: none;\n",
              "      fill: #1967D2;\n",
              "      height: 32px;\n",
              "      padding: 0 0 0 0;\n",
              "      width: 32px;\n",
              "    }\n",
              "\n",
              "    .colab-df-convert:hover {\n",
              "      background-color: #E2EBFA;\n",
              "      box-shadow: 0px 1px 2px rgba(60, 64, 67, 0.3), 0px 1px 3px 1px rgba(60, 64, 67, 0.15);\n",
              "      fill: #174EA6;\n",
              "    }\n",
              "\n",
              "    .colab-df-buttons div {\n",
              "      margin-bottom: 4px;\n",
              "    }\n",
              "\n",
              "    [theme=dark] .colab-df-convert {\n",
              "      background-color: #3B4455;\n",
              "      fill: #D2E3FC;\n",
              "    }\n",
              "\n",
              "    [theme=dark] .colab-df-convert:hover {\n",
              "      background-color: #434B5C;\n",
              "      box-shadow: 0px 1px 3px 1px rgba(0, 0, 0, 0.15);\n",
              "      filter: drop-shadow(0px 1px 2px rgba(0, 0, 0, 0.3));\n",
              "      fill: #FFFFFF;\n",
              "    }\n",
              "  </style>\n",
              "\n",
              "    <script>\n",
              "      const buttonEl =\n",
              "        document.querySelector('#df-34d01232-31ec-4a8e-92c5-e214e4d736eb button.colab-df-convert');\n",
              "      buttonEl.style.display =\n",
              "        google.colab.kernel.accessAllowed ? 'block' : 'none';\n",
              "\n",
              "      async function convertToInteractive(key) {\n",
              "        const element = document.querySelector('#df-34d01232-31ec-4a8e-92c5-e214e4d736eb');\n",
              "        const dataTable =\n",
              "          await google.colab.kernel.invokeFunction('convertToInteractive',\n",
              "                                                    [key], {});\n",
              "        if (!dataTable) return;\n",
              "\n",
              "        const docLinkHtml = 'Like what you see? Visit the ' +\n",
              "          '<a target=\"_blank\" href=https://colab.research.google.com/notebooks/data_table.ipynb>data table notebook</a>'\n",
              "          + ' to learn more about interactive tables.';\n",
              "        element.innerHTML = '';\n",
              "        dataTable['output_type'] = 'display_data';\n",
              "        await google.colab.output.renderOutput(dataTable, element);\n",
              "        const docLink = document.createElement('div');\n",
              "        docLink.innerHTML = docLinkHtml;\n",
              "        element.appendChild(docLink);\n",
              "      }\n",
              "    </script>\n",
              "  </div>\n",
              "\n",
              "\n",
              "<div id=\"df-cd160138-6105-4dc8-a217-ef4885809ea4\">\n",
              "  <button class=\"colab-df-quickchart\" onclick=\"quickchart('df-cd160138-6105-4dc8-a217-ef4885809ea4')\"\n",
              "            title=\"Suggest charts\"\n",
              "            style=\"display:none;\">\n",
              "\n",
              "<svg xmlns=\"http://www.w3.org/2000/svg\" height=\"24px\"viewBox=\"0 0 24 24\"\n",
              "     width=\"24px\">\n",
              "    <g>\n",
              "        <path d=\"M19 3H5c-1.1 0-2 .9-2 2v14c0 1.1.9 2 2 2h14c1.1 0 2-.9 2-2V5c0-1.1-.9-2-2-2zM9 17H7v-7h2v7zm4 0h-2V7h2v10zm4 0h-2v-4h2v4z\"/>\n",
              "    </g>\n",
              "</svg>\n",
              "  </button>\n",
              "\n",
              "<style>\n",
              "  .colab-df-quickchart {\n",
              "      --bg-color: #E8F0FE;\n",
              "      --fill-color: #1967D2;\n",
              "      --hover-bg-color: #E2EBFA;\n",
              "      --hover-fill-color: #174EA6;\n",
              "      --disabled-fill-color: #AAA;\n",
              "      --disabled-bg-color: #DDD;\n",
              "  }\n",
              "\n",
              "  [theme=dark] .colab-df-quickchart {\n",
              "      --bg-color: #3B4455;\n",
              "      --fill-color: #D2E3FC;\n",
              "      --hover-bg-color: #434B5C;\n",
              "      --hover-fill-color: #FFFFFF;\n",
              "      --disabled-bg-color: #3B4455;\n",
              "      --disabled-fill-color: #666;\n",
              "  }\n",
              "\n",
              "  .colab-df-quickchart {\n",
              "    background-color: var(--bg-color);\n",
              "    border: none;\n",
              "    border-radius: 50%;\n",
              "    cursor: pointer;\n",
              "    display: none;\n",
              "    fill: var(--fill-color);\n",
              "    height: 32px;\n",
              "    padding: 0;\n",
              "    width: 32px;\n",
              "  }\n",
              "\n",
              "  .colab-df-quickchart:hover {\n",
              "    background-color: var(--hover-bg-color);\n",
              "    box-shadow: 0 1px 2px rgba(60, 64, 67, 0.3), 0 1px 3px 1px rgba(60, 64, 67, 0.15);\n",
              "    fill: var(--button-hover-fill-color);\n",
              "  }\n",
              "\n",
              "  .colab-df-quickchart-complete:disabled,\n",
              "  .colab-df-quickchart-complete:disabled:hover {\n",
              "    background-color: var(--disabled-bg-color);\n",
              "    fill: var(--disabled-fill-color);\n",
              "    box-shadow: none;\n",
              "  }\n",
              "\n",
              "  .colab-df-spinner {\n",
              "    border: 2px solid var(--fill-color);\n",
              "    border-color: transparent;\n",
              "    border-bottom-color: var(--fill-color);\n",
              "    animation:\n",
              "      spin 1s steps(1) infinite;\n",
              "  }\n",
              "\n",
              "  @keyframes spin {\n",
              "    0% {\n",
              "      border-color: transparent;\n",
              "      border-bottom-color: var(--fill-color);\n",
              "      border-left-color: var(--fill-color);\n",
              "    }\n",
              "    20% {\n",
              "      border-color: transparent;\n",
              "      border-left-color: var(--fill-color);\n",
              "      border-top-color: var(--fill-color);\n",
              "    }\n",
              "    30% {\n",
              "      border-color: transparent;\n",
              "      border-left-color: var(--fill-color);\n",
              "      border-top-color: var(--fill-color);\n",
              "      border-right-color: var(--fill-color);\n",
              "    }\n",
              "    40% {\n",
              "      border-color: transparent;\n",
              "      border-right-color: var(--fill-color);\n",
              "      border-top-color: var(--fill-color);\n",
              "    }\n",
              "    60% {\n",
              "      border-color: transparent;\n",
              "      border-right-color: var(--fill-color);\n",
              "    }\n",
              "    80% {\n",
              "      border-color: transparent;\n",
              "      border-right-color: var(--fill-color);\n",
              "      border-bottom-color: var(--fill-color);\n",
              "    }\n",
              "    90% {\n",
              "      border-color: transparent;\n",
              "      border-bottom-color: var(--fill-color);\n",
              "    }\n",
              "  }\n",
              "</style>\n",
              "\n",
              "  <script>\n",
              "    async function quickchart(key) {\n",
              "      const quickchartButtonEl =\n",
              "        document.querySelector('#' + key + ' button');\n",
              "      quickchartButtonEl.disabled = true;  // To prevent multiple clicks.\n",
              "      quickchartButtonEl.classList.add('colab-df-spinner');\n",
              "      try {\n",
              "        const charts = await google.colab.kernel.invokeFunction(\n",
              "            'suggestCharts', [key], {});\n",
              "      } catch (error) {\n",
              "        console.error('Error during call to suggestCharts:', error);\n",
              "      }\n",
              "      quickchartButtonEl.classList.remove('colab-df-spinner');\n",
              "      quickchartButtonEl.classList.add('colab-df-quickchart-complete');\n",
              "    }\n",
              "    (() => {\n",
              "      let quickchartButtonEl =\n",
              "        document.querySelector('#df-cd160138-6105-4dc8-a217-ef4885809ea4 button');\n",
              "      quickchartButtonEl.style.display =\n",
              "        google.colab.kernel.accessAllowed ? 'block' : 'none';\n",
              "    })();\n",
              "  </script>\n",
              "</div>\n",
              "\n",
              "    </div>\n",
              "  </div>\n"
            ],
            "application/vnd.google.colaboratory.intrinsic+json": {
              "type": "dataframe",
              "variable_name": "data"
            }
          },
          "metadata": {},
          "execution_count": 3
        }
      ]
    },
    {
      "cell_type": "markdown",
      "source": [
        "### Loading and Normalizing the Dataset"
      ],
      "metadata": {
        "id": "bSIBRfQRyvTd"
      }
    },
    {
      "cell_type": "code",
      "source": [
        "# then we install all of the libraries that we need for this project\n",
        "!pip install numpy pandas matplotlib\n",
        "\n",
        "import numpy as np\n",
        "import pandas as pd\n",
        "from sklearn.decomposition import PCA\n",
        "from sklearn.preprocessing import StandardScaler\n",
        "from sklearn.model_selection import train_test_split\n",
        "import matplotlib.pyplot as plt\n",
        "import seaborn as sns\n",
        "\n",
        "# we then load the data from the dataset so that the program can access it\n",
        "file_name = 'TCGA-UCEC.star_tpm.tsv'\n",
        "data = pd.read_csv(file_name, sep='\\t')\n",
        "\n",
        "# we then drop the features that can potentially cause problems\n",
        "problematic_features = ['ENSG0000022586.20_PAR_Y', 'ENSG0000022766.21_PAR_X']\n",
        "data = data.drop(columns=problematic_features, errors='ignore')\n",
        "\n",
        "# data is transposed so columns become features and rows are each sample\n",
        "data = data.set_index(data.columns[0]).T\n",
        "\n",
        "# the data is then normalized with Z-score normalization\n",
        "scaler = StandardScaler()\n",
        "normalized_data = scaler.fit_transform(data)\n",
        "\n",
        "# we then use PCA to reduce dimensionality\n",
        "pca = PCA(n_components=100)  # Reduce to 100 features\n",
        "reduced_data = pca.fit_transform(normalized_data)\n",
        "\n",
        "# next step is to state the the column index for the target variable so we have experiment-dependent\n",
        "target_column_index = 9\n",
        "y = data.iloc[:, target_column_index].values\n",
        "\n",
        "# we then split the reduced data and target variable into the two training and testing sets\n",
        "X_train, X_test, y_train, y_test = train_test_split(reduced_data, y, test_size=0.2, random_state=42)\n",
        "\n",
        "print(f\"Using column {target_column_index + 1} as the target:\")\n",
        "print(\"Training set shape:\", X_train.shape, y_train.shape)\n",
        "print(\"Testing set shape:\", X_test.shape, y_test.shape)\n",
        "\n",
        "# defining a function that we use to calculate all of the metrics (which we later use to analyze whether the model is performing well or not)\n",
        "def compute_metrics(predictions, actual_values):\n",
        "    MSE = np.mean((predictions - actual_values) ** 2)\n",
        "    RMSE = np.sqrt(MSE)\n",
        "    MAE = np.mean(np.abs(predictions - actual_values))\n",
        "    SS_res = np.sum((predictions - actual_values) ** 2)\n",
        "    SS_tot = np.sum((actual_values - np.mean(actual_values)) ** 2)\n",
        "    R2_score = 1 - (SS_res / SS_tot)\n",
        "    return MSE, RMSE, MAE, R2_score"
      ],
      "metadata": {
        "id": "cfkKN8BXyzTA",
        "colab": {
          "base_uri": "https://localhost:8080/"
        },
        "outputId": "2f9bfbf7-eb9d-4684-aaf9-086aa2aadc96"
      },
      "execution_count": 4,
      "outputs": [
        {
          "output_type": "stream",
          "name": "stdout",
          "text": [
            "Requirement already satisfied: numpy in /usr/local/lib/python3.10/dist-packages (1.26.4)\n",
            "Requirement already satisfied: pandas in /usr/local/lib/python3.10/dist-packages (2.2.2)\n",
            "Requirement already satisfied: matplotlib in /usr/local/lib/python3.10/dist-packages (3.8.0)\n",
            "Requirement already satisfied: python-dateutil>=2.8.2 in /usr/local/lib/python3.10/dist-packages (from pandas) (2.8.2)\n",
            "Requirement already satisfied: pytz>=2020.1 in /usr/local/lib/python3.10/dist-packages (from pandas) (2024.2)\n",
            "Requirement already satisfied: tzdata>=2022.7 in /usr/local/lib/python3.10/dist-packages (from pandas) (2024.2)\n",
            "Requirement already satisfied: contourpy>=1.0.1 in /usr/local/lib/python3.10/dist-packages (from matplotlib) (1.3.1)\n",
            "Requirement already satisfied: cycler>=0.10 in /usr/local/lib/python3.10/dist-packages (from matplotlib) (0.12.1)\n",
            "Requirement already satisfied: fonttools>=4.22.0 in /usr/local/lib/python3.10/dist-packages (from matplotlib) (4.55.0)\n",
            "Requirement already satisfied: kiwisolver>=1.0.1 in /usr/local/lib/python3.10/dist-packages (from matplotlib) (1.4.7)\n",
            "Requirement already satisfied: packaging>=20.0 in /usr/local/lib/python3.10/dist-packages (from matplotlib) (24.2)\n",
            "Requirement already satisfied: pillow>=6.2.0 in /usr/local/lib/python3.10/dist-packages (from matplotlib) (11.0.0)\n",
            "Requirement already satisfied: pyparsing>=2.3.1 in /usr/local/lib/python3.10/dist-packages (from matplotlib) (3.2.0)\n",
            "Requirement already satisfied: six>=1.5 in /usr/local/lib/python3.10/dist-packages (from python-dateutil>=2.8.2->pandas) (1.16.0)\n",
            "Using column 10 as the target:\n",
            "Training set shape: (468, 100) (468,)\n",
            "Testing set shape: (117, 100) (117,)\n"
          ]
        }
      ]
    },
    {
      "cell_type": "code",
      "source": [
        "# we then check the shape of the reduced dataset to make sure it won't cause any problems\n",
        "print(\"Reduced data shape:\", reduced_data.shape)\n",
        "\n",
        "# then we display the first few rows of the reduced dataset to make sure everything looks as it should\n",
        "print(\"First 5 rows of reduced data:\")\n",
        "print(reduced_data[:5])"
      ],
      "metadata": {
        "id": "NJNO-gRVz_5c",
        "colab": {
          "base_uri": "https://localhost:8080/"
        },
        "outputId": "cdaf6ee6-86c0-45e6-f328-0dfeb1d046ca"
      },
      "execution_count": 5,
      "outputs": [
        {
          "output_type": "stream",
          "name": "stdout",
          "text": [
            "Reduced data shape: (585, 100)\n",
            "First 5 rows of reduced data:\n",
            "[[ 2.22587802e+01  5.30940216e+01  5.04567562e-01 -1.49865021e+01\n",
            "   3.98940291e+01 -6.62247801e+01  3.86809629e+01 -1.28444348e+01\n",
            "   1.37011995e+01  3.04665720e+01 -1.86412844e+01  2.13917277e+01\n",
            "  -8.93495445e+00 -1.07933671e+01 -6.00658499e+00  4.14956337e+00\n",
            "   6.72306277e+00 -2.33599778e+01  7.23682997e+00 -1.46369011e+01\n",
            "   1.70605017e+00  1.23874420e+01 -5.16610232e-01 -1.29876840e+01\n",
            "   1.33690027e+01 -8.19631166e+00 -2.95094633e+00 -9.54328462e+00\n",
            "  -1.96976928e+00  2.63915933e+01  4.49820404e+00 -5.13970857e+00\n",
            "   2.30595371e+01 -1.21063786e+01 -6.71608509e+00  1.32816858e+01\n",
            "  -6.91964339e+00 -3.08441177e+00  3.78416026e+00 -6.05700643e+00\n",
            "  -2.46057643e+01 -5.10669178e+00  2.07243661e+01  1.02964194e+01\n",
            "   3.02875222e+01 -9.04092449e+00  6.44855428e+00  8.87688481e+00\n",
            "   1.61446308e+00 -3.75325820e+01 -1.07334191e+01 -1.59783790e+01\n",
            "  -1.51622834e+01 -2.45234586e+01  2.91535368e+01  2.07495892e+00\n",
            "  -1.48110113e+01 -2.06493491e+01 -2.63026797e+01 -1.38243808e+01\n",
            "  -1.87110224e+01 -9.11250707e+00 -1.94151229e+01 -1.54761401e+01\n",
            "  -6.08719378e+00  4.35807903e+00  5.35470466e+00 -9.37882988e+00\n",
            "   1.05593086e+01  1.12514675e+01  6.05441531e+00 -1.08657571e+01\n",
            "  -1.74831471e+01 -1.64036338e+01  2.93584424e+01  9.22952647e+00\n",
            "  -1.18143518e+01 -1.33513752e+01  1.99303407e+01 -3.10954160e+00\n",
            "  -8.50726098e+00 -1.29495436e+01 -9.40757597e+00  1.12421612e+01\n",
            "   4.45881201e+00  3.85778526e+00  4.44884796e+01  6.67790883e+00\n",
            "   3.78775635e+01  5.77869560e+00  2.99041083e+01  1.98551174e+01\n",
            "  -6.50746828e+00  7.94375675e+00 -4.36289004e-01 -9.70911611e+00\n",
            "  -2.97181219e+00 -5.45748792e+00  1.31810514e+01 -1.00960488e+01]\n",
            " [-6.04114460e+00  1.50957014e+00  7.66911301e+00 -1.92124681e+01\n",
            "   1.29075432e+00 -1.02509422e+01 -3.78529155e+01 -2.21163869e+01\n",
            "   1.96950402e+01  1.38145183e+01  5.88086255e+00 -1.30348086e+01\n",
            "   5.42853500e+00 -9.53702024e+00  1.65663412e+01 -1.20939012e+01\n",
            "   6.35714884e-01  2.41800434e+01 -9.62844274e+00  7.11826719e+00\n",
            "   5.16590935e+00 -4.04067219e+00  6.01866556e+00 -1.28569210e+01\n",
            "   4.23174502e+00  1.39017558e+01  1.64120941e+01  1.38588403e+01\n",
            "   1.52188963e+01 -1.15693057e+01  1.75699334e+00 -1.93262657e+01\n",
            "   3.76787766e+00 -6.30595859e+00  6.27493161e+00  5.98906495e+00\n",
            "  -5.37412550e-01  8.57093991e+00 -2.72947459e+00  1.94999321e+00\n",
            "   2.99682904e+00 -1.26994394e+01  1.85603269e+01 -4.55932650e+00\n",
            "  -3.42552995e+00 -1.11091211e+01 -7.19084629e-01 -5.54767399e+00\n",
            "  -4.18939556e+00  2.91219905e+00  5.13442664e+00  7.73748029e-01\n",
            "   4.97116807e+00 -4.39021498e+00 -5.03180980e+00 -6.01159818e+00\n",
            "  -2.54517947e-01  1.90012430e+00 -8.82877779e+00  5.70095377e+00\n",
            "   4.74765637e-01 -1.09140797e+00 -5.53156770e+00  2.53969455e+00\n",
            "   2.37267307e-01  5.69862468e+00  4.74266296e+00  4.34827739e+00\n",
            "  -7.35597207e+00  5.17598019e+00 -1.41377557e-02 -2.84885424e+00\n",
            "  -4.88527017e+00  3.92014523e+00 -6.25498424e-01 -2.68823388e+00\n",
            "   1.28139236e+01 -3.95323685e+00 -2.23091358e-01  1.41218780e+01\n",
            "  -4.00966395e+00  2.66773618e+00  1.82400556e+00  1.26076661e+01\n",
            "  -1.00913421e+00  2.80906070e+00  1.89392228e+00  2.54632758e+00\n",
            "   1.97373866e+00 -3.67872689e+00  7.33483570e+00  2.57670715e+00\n",
            "  -7.14684164e+00  2.99467992e+00 -6.89214207e+00 -1.45506049e+00\n",
            "  -7.63557401e+00  1.15734315e+01  9.49137705e-01 -9.94463603e+00]\n",
            " [ 1.26176877e+01 -7.95160289e+00 -9.90627359e+00 -1.46998418e+01\n",
            "  -2.98184697e+01  3.76953266e+01  1.77662975e+01 -4.65385293e+00\n",
            "  -9.92205297e+00 -1.88380414e+01 -4.73305542e+01  9.54507686e+00\n",
            "  -1.02563687e+01 -2.47654037e+01  3.72473248e+01 -2.47197093e+01\n",
            "  -9.78868442e+00 -2.99747340e+01  7.63079243e+00 -2.94540981e+00\n",
            "  -2.54774688e+00 -9.52715272e+00  2.23718095e+01 -8.52659137e+00\n",
            "  -2.24767654e+01  1.05595966e+01  2.12971227e+01 -1.80940151e+01\n",
            "   2.05125399e+01  1.90628639e+01 -2.81863953e+00  2.85508407e-01\n",
            "  -4.73867559e+00 -1.60496086e+01 -1.46339778e+01  1.08130439e+00\n",
            "  -8.59683634e-02  3.52792927e+00  3.47851733e-01 -4.17977808e+00\n",
            "   5.17750937e+00 -4.05799807e+00  2.49228580e+00 -6.06196807e-01\n",
            "  -1.02324348e+00  2.21465313e+00 -2.85817713e+00  3.11793323e+00\n",
            "   9.40822081e-01 -5.89161159e+00  1.07912763e+00 -7.22971903e-01\n",
            "   7.86484105e+00 -1.04201236e+01 -6.44234069e+00 -5.71995178e+00\n",
            "  -4.47677345e+00  2.22561409e+00 -1.16885914e+01 -4.79429698e+00\n",
            "   1.48333132e+00 -1.22880349e+01  4.73847473e+00 -7.47280211e+00\n",
            "   8.69943431e-01  7.66990309e+00 -9.74555257e+00 -6.00138147e+00\n",
            "  -5.23361180e+00  2.28049321e+00  1.63206577e+00  5.03492200e+00\n",
            "   3.23441784e-01 -6.24827207e+00 -4.07871107e+00 -4.51320180e+00\n",
            "   7.28488812e+00 -1.27415053e+00 -1.38863362e+01  3.54010028e+00\n",
            "  -2.65939752e+00 -5.59536465e+00 -3.97899335e+00 -1.48837953e+00\n",
            "   7.73005277e+00 -7.48890081e+00 -2.65503870e-01 -3.21029843e+00\n",
            "   2.16706335e+00 -6.44027740e+00 -1.06712343e+01  1.66916423e+01\n",
            "  -1.14901954e+00  3.16019070e+00  7.77093294e+00 -2.09038634e-01\n",
            "  -2.70819707e+00  1.35615128e+01 -3.43592104e+00 -7.83150030e-01]\n",
            " [-6.80803979e+00  5.47524309e+01  5.93765021e+00 -2.26099454e+01\n",
            "   1.23224238e+00  5.33050976e+00 -4.63986651e+01 -1.03164280e+01\n",
            "   1.77340793e+01 -3.93211005e+00  1.41666785e+00  1.92387343e+00\n",
            "  -2.11814589e+00 -2.40233294e+00  7.66964476e+00 -2.85965083e+00\n",
            "  -5.31984344e+00  2.44259489e+01 -4.34082231e-01  9.97519782e+00\n",
            "  -7.06780463e+00  1.04340034e+00  1.09197813e+00  2.97459635e+00\n",
            "  -5.31031447e+00  2.12257447e+00  4.04670532e+00  1.16242627e+01\n",
            "   3.05340268e+00 -6.17549075e+00  5.33015660e-01  1.16863901e+01\n",
            "  -8.58581677e+00  2.31201661e+00  3.51477849e+01 -1.05137374e+01\n",
            "   1.03432526e+01  8.54848068e+00 -2.07451414e+00  1.46720558e+00\n",
            "   1.51212130e+01  6.03860164e+00 -1.38263692e+01  5.43813046e-02\n",
            "  -4.97044851e+00 -1.84780014e+00 -6.71553151e+00 -1.95097199e+00\n",
            "   9.20509856e+00 -1.88906559e+00 -3.36038798e+00  3.77188902e+00\n",
            "  -1.95001668e+01 -4.91787316e-01  4.31888559e-01  1.45923891e+01\n",
            "   5.62859895e+00 -6.27420432e+00 -2.78281229e+00  1.26221529e+01\n",
            "   9.15576919e+00  7.99801358e+00 -6.48282690e+00  8.65335436e+00\n",
            "   9.56401345e+00  8.85072047e+00 -1.23266864e+01 -1.27948375e+01\n",
            "   1.61950449e+00  6.99591098e-01 -1.34580040e+01 -7.27720120e+00\n",
            "  -2.89771288e+01 -1.95743235e+00 -2.69504957e+00 -1.91492035e+01\n",
            "   7.46088273e+00  4.66355562e+00  1.77654617e+00 -1.71740109e+01\n",
            "  -8.05795256e+00 -2.37446234e+01  2.16164231e+00  5.60521721e+00\n",
            "  -5.21293232e+00  4.70202108e+00  6.64379685e+00 -5.96823286e+00\n",
            "  -3.69017899e+00 -1.27139355e+01  1.07939650e+00  1.20126261e+00\n",
            "   1.81685475e+00  1.56940337e+01  1.94072832e+01 -7.87268970e-01\n",
            "   9.72921844e+00  6.06704095e+00  5.63878004e+00  1.29954720e+01]\n",
            " [ 1.22409289e+01  1.80077145e+01  2.48993516e+01 -2.69557929e+01\n",
            "  -8.23970805e+00  2.02590581e+01  2.61107829e+01 -1.73827524e+01\n",
            "  -1.42537112e+01  6.75736341e+00 -9.77325049e+00 -7.98038891e+00\n",
            "   5.96057537e-01 -9.93965478e+00  7.37799272e+00  3.64139278e+01\n",
            "   6.57405959e+00 -7.96809588e+00 -5.00762571e+01  9.68631899e+00\n",
            "  -9.52571199e+00 -2.25570702e+01 -1.07290540e+01  2.15042230e+01\n",
            "  -1.27013562e+01 -1.12502435e+01 -2.19839575e+01 -1.48882535e+01\n",
            "   1.10206896e+01  8.94440004e+00  1.32905189e+01 -7.05994149e+00\n",
            "  -2.12457390e+01 -6.30387858e+00  1.60688865e+01  4.80159561e+00\n",
            "  -2.12520427e+01 -1.26383455e+01  1.29106336e+01  1.89378072e+01\n",
            "   3.94531907e+01  2.28485619e+01  1.30983458e+01 -8.99957916e+00\n",
            "   2.16091973e+01 -2.45962271e+00 -1.27261530e+01  4.33998174e+00\n",
            "   5.40274303e+00  1.16978009e+00 -1.76482535e+01  6.59334329e+00\n",
            "  -5.59579335e+00 -1.32864427e+01 -6.33286448e+00  4.36815529e+00\n",
            "  -9.98614564e+00  1.34270750e+01 -1.56214894e+01  6.98326747e+00\n",
            "  -1.30714612e+01  2.62849816e+01  6.59528954e+00 -1.32246083e+01\n",
            "   4.09629106e+00 -4.57830498e+00  2.19190620e+00 -5.61132307e+00\n",
            "  -1.49616220e+01 -2.35018333e+01 -2.40604659e-02  1.45160567e+01\n",
            "   3.55081006e+01 -7.54062201e+00 -1.31268569e+00 -2.73596567e+01\n",
            "  -2.42807697e+01  3.53279254e+00 -2.29627978e+01  2.07989897e+01\n",
            "   6.65284883e+00 -4.16479519e+01  6.02668907e+01  5.02231260e+01\n",
            "  -7.59788722e+00 -6.02511345e+00 -1.88478456e+01  2.76063831e+00\n",
            "  -2.65650642e+01  3.00033375e+01 -3.58550027e-01  1.60563095e+01\n",
            "   2.12097984e+01  2.42742939e+01 -1.29921244e+01 -2.32646439e+01\n",
            "   1.11454927e+01 -4.50926194e+01  1.21741424e+01 -2.69354265e+01]]\n"
          ]
        }
      ]
    },
    {
      "cell_type": "markdown",
      "source": [
        "## Testing and Training"
      ],
      "metadata": {
        "id": "PInbjbgd0L8H"
      }
    },
    {
      "cell_type": "markdown",
      "source": [
        "### Training"
      ],
      "metadata": {
        "id": "0Gv3BvCE3IxS"
      }
    },
    {
      "cell_type": "markdown",
      "source": [
        "#### Splitting"
      ],
      "metadata": {
        "id": "gBFoRZn20VN3"
      }
    },
    {
      "cell_type": "markdown",
      "source": [
        "#### Initializing Params"
      ],
      "metadata": {
        "id": "CuLdGi311llK"
      }
    },
    {
      "cell_type": "code",
      "source": [
        "# here we are defining the function that sets all of the parameters for the model\n",
        "def initialize_parameters(layers):\n",
        "    np.random.seed(42)\n",
        "    parameters = {}\n",
        "    for l in range(1, len(layers)):\n",
        "        parameters[f'W{l}'] = np.random.randn(layers[l], layers[l-1]) * 0.01\n",
        "        parameters[f'b{l}'] = np.zeros((layers[l], 1))\n",
        "    return parameters\n",
        "\n",
        "# then we define the layers which go in the order of the amount of input, then the hidden layers, and finally the output\n",
        "layers = [100, 64, 32, 1]\n",
        "parameters = initialize_parameters(layers)\n",
        "\n",
        "for key, value in parameters.items():\n",
        "    print(f\"{key}: {value.shape}\")"
      ],
      "metadata": {
        "id": "pQDH316S1nIN",
        "colab": {
          "base_uri": "https://localhost:8080/"
        },
        "outputId": "d9507699-b670-4d53-c34a-238d3e7cd4d1"
      },
      "execution_count": 6,
      "outputs": [
        {
          "output_type": "stream",
          "name": "stdout",
          "text": [
            "W1: (64, 100)\n",
            "b1: (64, 1)\n",
            "W2: (32, 64)\n",
            "b2: (32, 1)\n",
            "W3: (1, 32)\n",
            "b3: (1, 1)\n"
          ]
        }
      ]
    },
    {
      "cell_type": "markdown",
      "source": [
        "#### Forward Propogation"
      ],
      "metadata": {
        "id": "ofVaYMs91tCm"
      }
    },
    {
      "cell_type": "code",
      "source": [
        "# defining the relu activation function\n",
        "def relu(Z):\n",
        "    return np.maximum(0, Z)\n",
        "\n",
        "# then defining the linear activation function which we use for the output\n",
        "def linear(Z):\n",
        "    return Z\n",
        "\n",
        "# forward propogation function definition which goes through each layer of the network and finally gets the outputs\n",
        "def forward_propagation(X, parameters, layers):\n",
        "    cache = {'A0': X.T}  # Transpose X for correct matrix multiplication\n",
        "    for l in range(1, len(layers)):\n",
        "        W = parameters[f'W{l}']\n",
        "        b = parameters[f'b{l}']\n",
        "        Z = np.dot(W, cache[f'A{l-1}']) + b\n",
        "        if l == len(layers) - 1:  # Output layer\n",
        "            A = linear(Z)\n",
        "        else:\n",
        "            A = relu(Z)\n",
        "        cache[f'Z{l}'] = Z\n",
        "        cache[f'A{l}'] = A\n",
        "    return cache[f'A{len(layers)-1}'], cache\n",
        "\n",
        "y_pred, cache = forward_propagation(X_train, parameters, layers)\n",
        "print(\"Forward propagation output shape:\", y_pred.shape)"
      ],
      "metadata": {
        "id": "vZKN9D1_1vFl",
        "colab": {
          "base_uri": "https://localhost:8080/"
        },
        "outputId": "23623daa-7b05-4c0e-d024-d6e6d6912a50"
      },
      "execution_count": 7,
      "outputs": [
        {
          "output_type": "stream",
          "name": "stdout",
          "text": [
            "Forward propagation output shape: (1, 468)\n"
          ]
        }
      ]
    },
    {
      "cell_type": "markdown",
      "source": [
        "#### Compute Loss"
      ],
      "metadata": {
        "id": "6VwwM7TG1wo3"
      }
    },
    {
      "cell_type": "code",
      "source": [
        "# this function calculates the loss or the MSE of the model\n",
        "def compute_loss(y_pred, y_true):\n",
        "    m = y_true.shape[0]\n",
        "    return np.sum((y_pred - y_true.reshape(1, -1)) ** 2) / (2 * m)\n",
        "\n",
        "loss = compute_loss(y_pred, y_train)\n",
        "print(\"Initial loss:\", loss)"
      ],
      "metadata": {
        "id": "juO8xGuS2BAe",
        "colab": {
          "base_uri": "https://localhost:8080/"
        },
        "outputId": "cf7f78c9-44f8-49a2-af79-80ebf7478c47"
      },
      "execution_count": 8,
      "outputs": [
        {
          "output_type": "stream",
          "name": "stdout",
          "text": [
            "Initial loss: 12.219924819715917\n"
          ]
        }
      ]
    },
    {
      "cell_type": "markdown",
      "source": [
        "#### Back Propogation"
      ],
      "metadata": {
        "id": "TFMBgNk32JgS"
      }
    },
    {
      "cell_type": "code",
      "source": [
        "# this is the backward propogation function that calculates all of the gradients and returns them\n",
        "def backward_propagation(parameters, cache, X, y, layers):\n",
        "    grads = {}\n",
        "    m = X.shape[0]\n",
        "    y = y.reshape(cache[f'A{len(layers)-1}'].shape)\n",
        "\n",
        "    # Output layer gradient\n",
        "    dZ = cache[f'A{len(layers)-1}'] - y\n",
        "    grads[f'dW{len(layers)-1}'] = np.dot(dZ, cache[f'A{len(layers)-2}'].T) / m\n",
        "    grads[f'db{len(layers)-1}'] = np.sum(dZ, axis=1, keepdims=True) / m\n",
        "\n",
        "    # Hidden layer gradients\n",
        "    for l in range(len(layers) - 2, 0, -1):\n",
        "        dA = np.dot(parameters[f'W{l+1}'].T, dZ)\n",
        "        dZ = dA * (cache[f'Z{l}'] > 0)\n",
        "        grads[f'dW{l}'] = np.dot(dZ, cache[f'A{l-1}'].T) / m\n",
        "        grads[f'db{l}'] = np.sum(dZ, axis=1, keepdims=True) / m\n",
        "\n",
        "    return grads\n",
        "\n",
        "grads = backward_propagation(parameters, cache, X_train, y_train, layers)"
      ],
      "metadata": {
        "id": "GQQtkTQS2Lqp"
      },
      "execution_count": 9,
      "outputs": []
    },
    {
      "cell_type": "markdown",
      "source": [
        "#### Update Params"
      ],
      "metadata": {
        "id": "1PZGUpbR2UqD"
      }
    },
    {
      "cell_type": "code",
      "source": [
        "# this function allows the user to update the parameters when they're trying to improve their model\n",
        "def update_parameters(parameters, grads, learning_rate):\n",
        "    for key in parameters.keys():\n",
        "        parameters[key] -= learning_rate * grads[f'd{key}']\n",
        "    return parameters\n",
        "\n",
        "learning_rate = 0.01\n",
        "parameters = update_parameters(parameters, grads, learning_rate)"
      ],
      "metadata": {
        "id": "MM-CloHB2V2J"
      },
      "execution_count": 10,
      "outputs": []
    },
    {
      "cell_type": "markdown",
      "source": [
        "#### Training the Model"
      ],
      "metadata": {
        "id": "UoaDCNOU2b31"
      }
    },
    {
      "cell_type": "code",
      "source": [
        "# this function is used to actually train the model and get it to perform better over time (with parameter tuning, etc)\n",
        "def train_model(X, y, layers, learning_rate=0.01, epochs=100):\n",
        "    parameters = initialize_parameters(layers)\n",
        "    training_losses = []\n",
        "\n",
        "    # looking through all epochs\n",
        "    for epoch in range(epochs):\n",
        "        y_pred, cache = forward_propagation(X, parameters, layers)\n",
        "        loss = compute_loss(y_pred, y)\n",
        "        training_losses.append(loss)\n",
        "        grads = backward_propagation(parameters, cache, X, y, layers)\n",
        "        parameters = update_parameters(parameters, grads, learning_rate)\n",
        "\n",
        "        # printing the training epochs\n",
        "        if epoch % 10 == 0 or epoch == epochs - 1:\n",
        "            print(f\"Epoch {epoch + 1}/{epochs}, Training Loss: {loss:.4f}\")\n",
        "\n",
        "    return parameters\n",
        "\n",
        "# training the model with the training data, learning rate, epochs, and architecture\n",
        "trained_parameters = train_model(X_train, y_train, layers, learning_rate=0.01, epochs=100)"
      ],
      "metadata": {
        "id": "qfikJnJa2dnA",
        "colab": {
          "base_uri": "https://localhost:8080/"
        },
        "outputId": "bf8ee981-5432-4aa9-9443-1f0c50e68366"
      },
      "execution_count": 11,
      "outputs": [
        {
          "output_type": "stream",
          "name": "stdout",
          "text": [
            "Epoch 1/100, Training Loss: 12.2199\n",
            "Epoch 11/100, Training Loss: 8.5948\n",
            "Epoch 21/100, Training Loss: 0.4625\n",
            "Epoch 31/100, Training Loss: 0.1685\n",
            "Epoch 41/100, Training Loss: 0.1675\n",
            "Epoch 51/100, Training Loss: 0.1575\n",
            "Epoch 61/100, Training Loss: 0.0874\n",
            "Epoch 71/100, Training Loss: 0.0618\n",
            "Epoch 81/100, Training Loss: 0.0535\n",
            "Epoch 91/100, Training Loss: 0.0526\n",
            "Epoch 100/100, Training Loss: 0.0531\n"
          ]
        }
      ]
    },
    {
      "cell_type": "markdown",
      "source": [
        "### Testing"
      ],
      "metadata": {
        "id": "ZoX3jp2x2_1O"
      }
    },
    {
      "cell_type": "markdown",
      "source": [
        "#### Evaluating on Test Set"
      ],
      "metadata": {
        "id": "qbn6tBE023Ve"
      }
    },
    {
      "cell_type": "code",
      "source": [
        "# here we are testing on the test set we have\n",
        "y_test_pred, _ = forward_propagation(X_test, trained_parameters, layers)\n",
        "test_loss = compute_loss(y_test_pred, y_test)\n",
        "print(f\"Test Loss: {test_loss:.4f}\")"
      ],
      "metadata": {
        "id": "RT30eZKO27sg",
        "colab": {
          "base_uri": "https://localhost:8080/"
        },
        "outputId": "67939c16-2ed7-4e61-eb49-c688fca956bc"
      },
      "execution_count": 12,
      "outputs": [
        {
          "output_type": "stream",
          "name": "stdout",
          "text": [
            "Test Loss: 0.2654\n"
          ]
        }
      ]
    },
    {
      "cell_type": "markdown",
      "source": [
        "## Analysis"
      ],
      "metadata": {
        "id": "q7m-ezea5Z6P"
      }
    },
    {
      "cell_type": "markdown",
      "source": [
        "### Predicted vs Actual Values"
      ],
      "metadata": {
        "id": "qGQoAIeI5jjI"
      }
    },
    {
      "cell_type": "code",
      "source": [
        "# this graphs the values to show us how they compare, and where the model can do better\n",
        "plt.figure(figsize=(10, 6))\n",
        "plt.scatter(y_test, y_test_pred.flatten(), alpha=0.7, label=\"Predictions\")\n",
        "plt.plot([min(y_test), max(y_test)], [min(y_test), max(y_test)], color='red', linestyle='--', label=\"Ideal Fit\")\n",
        "plt.title(\"Predicted vs. Actual Values\")\n",
        "plt.xlabel(\"Actual Values\")\n",
        "plt.ylabel(\"Predicted Values\")\n",
        "plt.legend()\n",
        "plt.grid(True)\n",
        "plt.show()"
      ],
      "metadata": {
        "id": "-6iPRaKd5hpq",
        "colab": {
          "base_uri": "https://localhost:8080/",
          "height": 563
        },
        "outputId": "a1d8f2a1-a8ea-4669-dc5e-9aa2d8645660"
      },
      "execution_count": 13,
      "outputs": [
        {
          "output_type": "display_data",
          "data": {
            "text/plain": [
              "<Figure size 1000x600 with 1 Axes>"
            ],
            "image/png": "[encoded data removed]"
          },
          "metadata": {}
        }
      ]
    },
    {
      "cell_type": "code",
      "source": [
        "# this function plots a heatmap which shows the correlation in the dataset, we use this to understand the dataset better\n",
        "def plot_heatmap_efficient(data, feature_subset=100, title=\"Feature Correlation Heatmap (Subset)\"):\n",
        "    \"\"\"\n",
        "    Plots a heatmap of the feature correlation matrix for a subset of features.\n",
        "\n",
        "    Args:\n",
        "        data (pd.DataFrame or np.ndarray): The dataset containing features.\n",
        "        feature_subset (int): Number of features to include in the heatmap.\n",
        "        title (str): Title of the heatmap.\n",
        "    \"\"\"\n",
        "    if isinstance(data, np.ndarray):  # Convert to DataFrame if needed\n",
        "        data = pd.DataFrame(data)\n",
        "\n",
        "    # Compute the correlation matrix for the subset of features\n",
        "    correlation_matrix = data.iloc[:, :feature_subset].corr()\n",
        "\n",
        "    # Plot the heatmap\n",
        "    plt.figure(figsize=(12, 10))\n",
        "    sns.heatmap(correlation_matrix, cmap=\"coolwarm\", square=True, cbar=True)\n",
        "    plt.title(title)\n",
        "    plt.show()\n",
        "\n",
        "# Example Usage\n",
        "plot_heatmap_efficient(X_train, feature_subset=99, title=\"Feature Correlation Heatmap (First 99 Features)\")\n",
        "\n"
      ],
      "metadata": {
        "id": "Rmk-MqaYumyl",
        "colab": {
          "base_uri": "https://localhost:8080/",
          "height": 829
        },
        "outputId": "cb877d53-7941-43a0-a3cb-1044c97ecf86"
      },
      "execution_count": 14,
      "outputs": [
        {
          "output_type": "display_data",
          "data": {
            "text/plain": [
              "<Figure size 1200x1000 with 2 Axes>"
            ],
            "image/png": "[encoded data removed]"
          },
          "metadata": {}
        }
      ]
    },
    {
      "cell_type": "markdown",
      "source": [
        "## Hyperparameter Tuning"
      ],
      "metadata": {
        "id": "HJXhE0CC58ZU"
      }
    },
    {
      "cell_type": "markdown",
      "source": [
        "### L2 Regularization\n",
        "\n",
        "\n",
        "*   we need this type of regularization so that so we can penalize large weights in the loss function (which improves the model performance)\n",
        "\n"
      ],
      "metadata": {
        "id": "hbRNMGw354V2"
      }
    },
    {
      "cell_type": "markdown",
      "source": [
        "#### New Loss Function"
      ],
      "metadata": {
        "id": "NkISRQG46T0C"
      }
    },
    {
      "cell_type": "code",
      "source": [
        "# function that will return the total loss with MSE + the l2 penalty\n",
        "def compute_loss_with_l2(y_pred, y_true, parameters, layers, l2_lambda):\n",
        "    m = y_true.shape[0]  # Number of samples\n",
        "    mse_loss = np.sum((y_pred - y_true.reshape(1, -1)) ** 2) / (2 * m)\n",
        "\n",
        "    # Compute L2 penalty\n",
        "    l2_penalty = sum(np.sum(parameters[f'W{l}'] ** 2) for l in range(1, len(layers)))\n",
        "    l2_penalty *= (l2_lambda / (2 * m))\n",
        "\n",
        "    return mse_loss + l2_penalty"
      ],
      "metadata": {
        "id": "PYHHbQGu6Mdl"
      },
      "execution_count": 15,
      "outputs": []
    },
    {
      "cell_type": "markdown",
      "source": [
        "#### Training with L2"
      ],
      "metadata": {
        "id": "ZQnghxit6VmT"
      }
    },
    {
      "cell_type": "code",
      "source": [
        "# this function specifically trains the model with l2\n",
        "def train_model_with_l2(X, y, layers, learning_rate=0.01, epochs=100, l2_lambda=0.01):\n",
        "    \"\"\"\n",
        "    Train a neural network with L2 regularization\n",
        "    \"\"\"\n",
        "    parameters = initialize_parameters(layers)\n",
        "\n",
        "    for epoch in range(epochs):\n",
        "        y_pred, cache = forward_propagation(X, parameters, layers)\n",
        "        loss = compute_loss_with_l2(y_pred, y, parameters, layers, l2_lambda)\n",
        "        grads = backward_propagation(parameters, cache, X, y, layers)\n",
        "\n",
        "        # Add L2 regularization to gradients\n",
        "        for l in range(1, len(layers)):\n",
        "            grads[f'dW{l}'] += (l2_lambda / X.shape[0]) * parameters[f'W{l}']\n",
        "\n",
        "        parameters = update_parameters(parameters, grads, learning_rate)\n",
        "\n",
        "        if epoch % 10 == 0:\n",
        "            print(f\"Epoch {epoch}/{epochs}: Loss = {loss:.4f}\")\n",
        "\n",
        "    return parameters, loss"
      ],
      "metadata": {
        "id": "T_Hs2y3G6WoS"
      },
      "execution_count": 16,
      "outputs": []
    },
    {
      "cell_type": "markdown",
      "source": [
        "#### Log Experiment"
      ],
      "metadata": {
        "id": "X10fRAEQBo8B"
      }
    },
    {
      "cell_type": "code",
      "source": [
        "# this function is what allows us to see the model's performance over time with the log (shows the changed parameters, R^2, etc)\n",
        "def log_experiment(experiment_number, layers, learning_rate, l2_lambda, results):\n",
        "    \"\"\"\n",
        "    Log experiment results to a CSV file.\n",
        "    \"\"\"\n",
        "    import os\n",
        "\n",
        "    log_file = \"experiment_log.csv\"\n",
        "    experiment_data = {\n",
        "        \"Experiment Number\": experiment_number,\n",
        "        \"Layers\": str(layers),\n",
        "        \"Learning Rate\": learning_rate,\n",
        "        \"L2 Lambda\": l2_lambda,\n",
        "        **results\n",
        "    }\n",
        "\n",
        "    # here we add the new information to the log file each time\n",
        "    if os.path.exists(log_file):\n",
        "        log_df = pd.read_csv(log_file)\n",
        "        log_df = log_df.append(experiment_data, ignore_index=True)\n",
        "    else:\n",
        "        log_df = pd.DataFrame([experiment_data])\n",
        "\n",
        "    log_df.to_csv(log_file, index=False)\n",
        "    print(f\"Experiment {experiment_number} logged successfully.\")"
      ],
      "metadata": {
        "id": "1NQdsEW4Bogx"
      },
      "execution_count": 17,
      "outputs": []
    },
    {
      "cell_type": "markdown",
      "source": [
        "### Run Experiment"
      ],
      "metadata": {
        "id": "w57WKjk59xdo"
      }
    },
    {
      "cell_type": "code",
      "source": [
        "# this shows how accurate our model is being\n",
        "def calculate_accuracy(y_true, y_pred, tolerance=0.1):\n",
        "\n",
        "    correct_predictions = np.abs(y_true - y_pred.flatten()) <= tolerance\n",
        "    accuracy = np.mean(correct_predictions) * 100\n",
        "    return accuracy"
      ],
      "metadata": {
        "id": "3bSXhZqtKavX"
      },
      "execution_count": 18,
      "outputs": []
    },
    {
      "cell_type": "code",
      "source": [
        "# this formats the tables of the log better\n",
        "from IPython.display import display\n",
        "import os\n",
        "\n",
        "# this function has all the infromation that runs each experiment of the model with the features that are chosen\n",
        "def run_experiment(\n",
        "    experiment_number,\n",
        "    layers,\n",
        "    learning_rate=0.002,\n",
        "    l2_lambda=0.01,\n",
        "    epochs=100,\n",
        "    train_test_split=\"75:25\"\n",
        "):\n",
        "\n",
        "    # the information for this specific experiment\n",
        "    print(f\"\\nRunning Experiment {experiment_number} with parameters:\")\n",
        "    print({\n",
        "        \"Neurons per layer\": layers,\n",
        "        \"Learning Rate\": learning_rate,\n",
        "        \"L2 Regularization (Lambda)\": l2_lambda,\n",
        "        \"Epochs\": epochs,\n",
        "        \"Train/Test Split\": train_test_split\n",
        "    })\n",
        "\n",
        "    # here we are actually training the model\n",
        "    trained_parameters = train_model(X_train, y_train, layers, learning_rate, epochs)\n",
        "\n",
        "    # then we test the model\n",
        "    y_test_pred, _ = forward_propagation(X_test, trained_parameters, layers)\n",
        "\n",
        "    # then the metrics of how we analyze the performance of the model are computed\n",
        "    MSE, RMSE, MAE, R2 = compute_metrics(y_test_pred, y_test)\n",
        "\n",
        "    # then we log the results\n",
        "    log = [\n",
        "        {\n",
        "            \"Experiment Number\": experiment_number,\n",
        "            \"Layers\": str(layers),  # Ensure layers are logged as a string\n",
        "            \"Learning Rate\": learning_rate,\n",
        "            \"L2 Lambda\": l2_lambda,\n",
        "            \"MSE\": MSE,\n",
        "            \"RMSE\": RMSE,\n",
        "            \"MAE\": MAE,\n",
        "            \"R²\": R2\n",
        "        }\n",
        "    ]\n",
        "\n",
        "    # save the log\n",
        "    log_df = pd.DataFrame(log)\n",
        "\n",
        "    if os.path.exists(\"experiment_log.csv\"):\n",
        "        existing_log_df = pd.read_csv(\"experiment_log.csv\")\n",
        "\n",
        "        # making sure there aren't any extra or duplicate columns\n",
        "        if \"Neurons per Layer\" in existing_log_df.columns:\n",
        "            existing_log_df = existing_log_df.drop(columns=[\"Neurons per Layer\"], errors=\"ignore\")\n",
        "\n",
        "        log_df = pd.concat([existing_log_df, log_df], ignore_index=True)\n",
        "\n",
        "    log_df.to_csv(\"experiment_log.csv\", index=False)\n",
        "\n",
        "    # showing the log in a tab format as specified in the project requirements\n",
        "    print(\"\\nUpdated Experiment Log:\")\n",
        "    display(log_df)\n",
        "\n",
        "    # we then print the results\n",
        "    print(f\"\\nExperiment {experiment_number} Results:\")\n",
        "    print(f\"MSE: {MSE:.4f}\")\n",
        "    print(f\"RMSE: {RMSE:.4f}\")\n",
        "    print(f\"MAE: {MAE:.4f}\")\n",
        "    print(f\"R² Score: {R2:.4f}\")\n",
        "\n",
        "run_experiment(\n",
        "    experiment_number=12,\n",
        "    layers=[100, 64, 32, 1],\n",
        "    learning_rate=0.036,\n",
        "    l2_lambda=0.01,\n",
        "    epochs=150,\n",
        "    train_test_split=\"80:20\"\n",
        "  )"
      ],
      "metadata": {
        "id": "ysCF480D9zK8",
        "colab": {
          "base_uri": "https://localhost:8080/",
          "height": 523
        },
        "outputId": "b9f83bfd-6564-41dd-a5c5-18674cc279cf"
      },
      "execution_count": 20,
      "outputs": [
        {
          "output_type": "stream",
          "name": "stdout",
          "text": [
            "\n",
            "Running Experiment 12 with parameters:\n",
            "{'Neurons per layer': [100, 64, 32, 1], 'Learning Rate': 0.036, 'L2 Regularization (Lambda)': 0.01, 'Epochs': 150, 'Train/Test Split': '80:20'}\n",
            "Epoch 1/150, Training Loss: 12.2199\n",
            "Epoch 11/150, Training Loss: 7.2933\n",
            "Epoch 21/150, Training Loss: 4.4940\n",
            "Epoch 31/150, Training Loss: 2.2877\n",
            "Epoch 41/150, Training Loss: 0.5220\n",
            "Epoch 51/150, Training Loss: 0.2244\n",
            "Epoch 61/150, Training Loss: 0.1568\n",
            "Epoch 71/150, Training Loss: 0.1025\n",
            "Epoch 81/150, Training Loss: 0.0705\n",
            "Epoch 91/150, Training Loss: 0.0648\n",
            "Epoch 101/150, Training Loss: 0.0699\n",
            "Epoch 111/150, Training Loss: 0.0614\n",
            "Epoch 121/150, Training Loss: 0.0530\n",
            "Epoch 131/150, Training Loss: 0.0478\n",
            "Epoch 141/150, Training Loss: 0.0439\n",
            "Epoch 150/150, Training Loss: 0.0446\n",
            "\n",
            "Updated Experiment Log:\n"
          ]
        },
        {
          "output_type": "display_data",
          "data": {
            "text/plain": [
              "   Experiment Number            Layers  Learning Rate  L2 Lambda       MSE  \\\n",
              "0                 12  [100, 64, 32, 1]          0.036       0.01  0.149301   \n",
              "\n",
              "       RMSE       MAE        R²  \n",
              "0  0.386395  0.315706  0.704388  "
            ],
            "text/html": [
              "\n",
              "  <div id=\"df-7143fb1f-f509-4c67-96d2-f7efb4a59838\" class=\"colab-df-container\">\n",
              "    <div>\n",
              "<style scoped>\n",
              "    .dataframe tbody tr th:only-of-type {\n",
              "        vertical-align: middle;\n",
              "    }\n",
              "\n",
              "    .dataframe tbody tr th {\n",
              "        vertical-align: top;\n",
              "    }\n",
              "\n",
              "    .dataframe thead th {\n",
              "        text-align: right;\n",
              "    }\n",
              "</style>\n",
              "<table border=\"1\" class=\"dataframe\">\n",
              "  <thead>\n",
              "    <tr style=\"text-align: right;\">\n",
              "      <th></th>\n",
              "      <th>Experiment Number</th>\n",
              "      <th>Layers</th>\n",
              "      <th>Learning Rate</th>\n",
              "      <th>L2 Lambda</th>\n",
              "      <th>MSE</th>\n",
              "      <th>RMSE</th>\n",
              "      <th>MAE</th>\n",
              "      <th>R²</th>\n",
              "    </tr>\n",
              "  </thead>\n",
              "  <tbody>\n",
              "    <tr>\n",
              "      <th>0</th>\n",
              "      <td>12</td>\n",
              "      <td>[100, 64, 32, 1]</td>\n",
              "      <td>0.036</td>\n",
              "      <td>0.01</td>\n",
              "      <td>0.149301</td>\n",
              "      <td>0.386395</td>\n",
              "      <td>0.315706</td>\n",
              "      <td>0.704388</td>\n",
              "    </tr>\n",
              "  </tbody>\n",
              "</table>\n",
              "</div>\n",
              "    <div class=\"colab-df-buttons\">\n",
              "\n",
              "  <div class=\"colab-df-container\">\n",
              "    <button class=\"colab-df-convert\" onclick=\"convertToInteractive('df-7143fb1f-f509-4c67-96d2-f7efb4a59838')\"\n",
              "            title=\"Convert this dataframe to an interactive table.\"\n",
              "            style=\"display:none;\">\n",
              "\n",
              "  <svg xmlns=\"http://www.w3.org/2000/svg\" height=\"24px\" viewBox=\"0 -960 960 960\">\n",
              "    <path d=\"M120-120v-720h720v720H120Zm60-500h600v-160H180v160Zm220 220h160v-160H400v160Zm0 220h160v-160H400v160ZM180-400h160v-160H180v160Zm440 0h160v-160H620v160ZM180-180h160v-160H180v160Zm440 0h160v-160H620v160Z\"/>\n",
              "  </svg>\n",
              "    </button>\n",
              "\n",
              "  <style>\n",
              "    .colab-df-container {\n",
              "      display:flex;\n",
              "      gap: 12px;\n",
              "    }\n",
              "\n",
              "    .colab-df-convert {\n",
              "      background-color: #E8F0FE;\n",
              "      border: none;\n",
              "      border-radius: 50%;\n",
              "      cursor: pointer;\n",
              "      display: none;\n",
              "      fill: #1967D2;\n",
              "      height: 32px;\n",
              "      padding: 0 0 0 0;\n",
              "      width: 32px;\n",
              "    }\n",
              "\n",
              "    .colab-df-convert:hover {\n",
              "      background-color: #E2EBFA;\n",
              "      box-shadow: 0px 1px 2px rgba(60, 64, 67, 0.3), 0px 1px 3px 1px rgba(60, 64, 67, 0.15);\n",
              "      fill: #174EA6;\n",
              "    }\n",
              "\n",
              "    .colab-df-buttons div {\n",
              "      margin-bottom: 4px;\n",
              "    }\n",
              "\n",
              "    [theme=dark] .colab-df-convert {\n",
              "      background-color: #3B4455;\n",
              "      fill: #D2E3FC;\n",
              "    }\n",
              "\n",
              "    [theme=dark] .colab-df-convert:hover {\n",
              "      background-color: #434B5C;\n",
              "      box-shadow: 0px 1px 3px 1px rgba(0, 0, 0, 0.15);\n",
              "      filter: drop-shadow(0px 1px 2px rgba(0, 0, 0, 0.3));\n",
              "      fill: #FFFFFF;\n",
              "    }\n",
              "  </style>\n",
              "\n",
              "    <script>\n",
              "      const buttonEl =\n",
              "        document.querySelector('#df-7143fb1f-f509-4c67-96d2-f7efb4a59838 button.colab-df-convert');\n",
              "      buttonEl.style.display =\n",
              "        google.colab.kernel.accessAllowed ? 'block' : 'none';\n",
              "\n",
              "      async function convertToInteractive(key) {\n",
              "        const element = document.querySelector('#df-7143fb1f-f509-4c67-96d2-f7efb4a59838');\n",
              "        const dataTable =\n",
              "          await google.colab.kernel.invokeFunction('convertToInteractive',\n",
              "                                                    [key], {});\n",
              "        if (!dataTable) return;\n",
              "\n",
              "        const docLinkHtml = 'Like what you see? Visit the ' +\n",
              "          '<a target=\"_blank\" href=https://colab.research.google.com/notebooks/data_table.ipynb>data table notebook</a>'\n",
              "          + ' to learn more about interactive tables.';\n",
              "        element.innerHTML = '';\n",
              "        dataTable['output_type'] = 'display_data';\n",
              "        await google.colab.output.renderOutput(dataTable, element);\n",
              "        const docLink = document.createElement('div');\n",
              "        docLink.innerHTML = docLinkHtml;\n",
              "        element.appendChild(docLink);\n",
              "      }\n",
              "    </script>\n",
              "  </div>\n",
              "\n",
              "\n",
              "    </div>\n",
              "  </div>\n"
            ],
            "application/vnd.google.colaboratory.intrinsic+json": {
              "type": "dataframe",
              "summary": "{\n  \"name\": \"  )\",\n  \"rows\": 1,\n  \"fields\": [\n    {\n      \"column\": \"Experiment Number\",\n      \"properties\": {\n        \"dtype\": \"number\",\n        \"std\": null,\n        \"min\": 12,\n        \"max\": 12,\n        \"num_unique_values\": 1,\n        \"samples\": [\n          12\n        ],\n        \"semantic_type\": \"\",\n        \"description\": \"\"\n      }\n    },\n    {\n      \"column\": \"Layers\",\n      \"properties\": {\n        \"dtype\": \"string\",\n        \"num_unique_values\": 1,\n        \"samples\": [\n          \"[100, 64, 32, 1]\"\n        ],\n        \"semantic_type\": \"\",\n        \"description\": \"\"\n      }\n    },\n    {\n      \"column\": \"Learning Rate\",\n      \"properties\": {\n        \"dtype\": \"number\",\n        \"std\": null,\n        \"min\": 0.036,\n        \"max\": 0.036,\n        \"num_unique_values\": 1,\n        \"samples\": [\n          0.036\n        ],\n        \"semantic_type\": \"\",\n        \"description\": \"\"\n      }\n    },\n    {\n      \"column\": \"L2 Lambda\",\n      \"properties\": {\n        \"dtype\": \"number\",\n        \"std\": null,\n        \"min\": 0.01,\n        \"max\": 0.01,\n        \"num_unique_values\": 1,\n        \"samples\": [\n          0.01\n        ],\n        \"semantic_type\": \"\",\n        \"description\": \"\"\n      }\n    },\n    {\n      \"column\": \"MSE\",\n      \"properties\": {\n        \"dtype\": \"number\",\n        \"std\": null,\n        \"min\": 0.14930114949845846,\n        \"max\": 0.14930114949845846,\n        \"num_unique_values\": 1,\n        \"samples\": [\n          0.14930114949845846\n        ],\n        \"semantic_type\": \"\",\n        \"description\": \"\"\n      }\n    },\n    {\n      \"column\": \"RMSE\",\n      \"properties\": {\n        \"dtype\": \"number\",\n        \"std\": null,\n        \"min\": 0.386395069195323,\n        \"max\": 0.386395069195323,\n        \"num_unique_values\": 1,\n        \"samples\": [\n          0.386395069195323\n        ],\n        \"semantic_type\": \"\",\n        \"description\": \"\"\n      }\n    },\n    {\n      \"column\": \"MAE\",\n      \"properties\": {\n        \"dtype\": \"number\",\n        \"std\": null,\n        \"min\": 0.3157058538181144,\n        \"max\": 0.3157058538181144,\n        \"num_unique_values\": 1,\n        \"samples\": [\n          0.3157058538181144\n        ],\n        \"semantic_type\": \"\",\n        \"description\": \"\"\n      }\n    },\n    {\n      \"column\": \"R\\u00b2\",\n      \"properties\": {\n        \"dtype\": \"number\",\n        \"std\": null,\n        \"min\": 0.7043877742999225,\n        \"max\": 0.7043877742999225,\n        \"num_unique_values\": 1,\n        \"samples\": [\n          0.7043877742999225\n        ],\n        \"semantic_type\": \"\",\n        \"description\": \"\"\n      }\n    }\n  ]\n}"
            }
          },
          "metadata": {}
        },
        {
          "output_type": "stream",
          "name": "stdout",
          "text": [
            "\n",
            "Experiment 12 Results:\n",
            "MSE: 0.1493\n",
            "RMSE: 0.3864\n",
            "MAE: 0.3157\n",
            "R² Score: 0.7044\n"
          ]
        }
      ]
    },
    {
      "cell_type": "markdown",
      "source": [
        "#### Experiments"
      ],
      "metadata": {
        "id": "wjSt9JvY96Ew"
      }
    },
    {
      "cell_type": "markdown",
      "source": [
        "#### Log"
      ],
      "metadata": {
        "id": "kex_tgB29-SQ"
      }
    },
    {
      "cell_type": "code",
      "source": [
        "# this actually displays the log file here (without needing to open the actual file)\n",
        "log_df = pd.read_csv(\"experiment_log.csv\")\n",
        "display(log_df)"
      ],
      "metadata": {
        "id": "qegNdqrc9_mJ",
        "colab": {
          "base_uri": "https://localhost:8080/",
          "height": 162
        },
        "outputId": "262a5050-110b-4078-8896-f5e404ba8dfc"
      },
      "execution_count": 21,
      "outputs": [
        {
          "output_type": "display_data",
          "data": {
            "text/plain": [
              "   Experiment Number            Layers  Learning Rate  L2 Lambda       MSE  \\\n",
              "0                 12  [100, 64, 32, 1]          0.036       0.01  0.149301   \n",
              "\n",
              "       RMSE       MAE        R²  \n",
              "0  0.386395  0.315706  0.704388  "
            ],
            "text/html": [
              "\n",
              "  <div id=\"df-d1b29a58-2473-43e2-a02f-ce9336928316\" class=\"colab-df-container\">\n",
              "    <div>\n",
              "<style scoped>\n",
              "    .dataframe tbody tr th:only-of-type {\n",
              "        vertical-align: middle;\n",
              "    }\n",
              "\n",
              "    .dataframe tbody tr th {\n",
              "        vertical-align: top;\n",
              "    }\n",
              "\n",
              "    .dataframe thead th {\n",
              "        text-align: right;\n",
              "    }\n",
              "</style>\n",
              "<table border=\"1\" class=\"dataframe\">\n",
              "  <thead>\n",
              "    <tr style=\"text-align: right;\">\n",
              "      <th></th>\n",
              "      <th>Experiment Number</th>\n",
              "      <th>Layers</th>\n",
              "      <th>Learning Rate</th>\n",
              "      <th>L2 Lambda</th>\n",
              "      <th>MSE</th>\n",
              "      <th>RMSE</th>\n",
              "      <th>MAE</th>\n",
              "      <th>R²</th>\n",
              "    </tr>\n",
              "  </thead>\n",
              "  <tbody>\n",
              "    <tr>\n",
              "      <th>0</th>\n",
              "      <td>12</td>\n",
              "      <td>[100, 64, 32, 1]</td>\n",
              "      <td>0.036</td>\n",
              "      <td>0.01</td>\n",
              "      <td>0.149301</td>\n",
              "      <td>0.386395</td>\n",
              "      <td>0.315706</td>\n",
              "      <td>0.704388</td>\n",
              "    </tr>\n",
              "  </tbody>\n",
              "</table>\n",
              "</div>\n",
              "    <div class=\"colab-df-buttons\">\n",
              "\n",
              "  <div class=\"colab-df-container\">\n",
              "    <button class=\"colab-df-convert\" onclick=\"convertToInteractive('df-d1b29a58-2473-43e2-a02f-ce9336928316')\"\n",
              "            title=\"Convert this dataframe to an interactive table.\"\n",
              "            style=\"display:none;\">\n",
              "\n",
              "  <svg xmlns=\"http://www.w3.org/2000/svg\" height=\"24px\" viewBox=\"0 -960 960 960\">\n",
              "    <path d=\"M120-120v-720h720v720H120Zm60-500h600v-160H180v160Zm220 220h160v-160H400v160Zm0 220h160v-160H400v160ZM180-400h160v-160H180v160Zm440 0h160v-160H620v160ZM180-180h160v-160H180v160Zm440 0h160v-160H620v160Z\"/>\n",
              "  </svg>\n",
              "    </button>\n",
              "\n",
              "  <style>\n",
              "    .colab-df-container {\n",
              "      display:flex;\n",
              "      gap: 12px;\n",
              "    }\n",
              "\n",
              "    .colab-df-convert {\n",
              "      background-color: #E8F0FE;\n",
              "      border: none;\n",
              "      border-radius: 50%;\n",
              "      cursor: pointer;\n",
              "      display: none;\n",
              "      fill: #1967D2;\n",
              "      height: 32px;\n",
              "      padding: 0 0 0 0;\n",
              "      width: 32px;\n",
              "    }\n",
              "\n",
              "    .colab-df-convert:hover {\n",
              "      background-color: #E2EBFA;\n",
              "      box-shadow: 0px 1px 2px rgba(60, 64, 67, 0.3), 0px 1px 3px 1px rgba(60, 64, 67, 0.15);\n",
              "      fill: #174EA6;\n",
              "    }\n",
              "\n",
              "    .colab-df-buttons div {\n",
              "      margin-bottom: 4px;\n",
              "    }\n",
              "\n",
              "    [theme=dark] .colab-df-convert {\n",
              "      background-color: #3B4455;\n",
              "      fill: #D2E3FC;\n",
              "    }\n",
              "\n",
              "    [theme=dark] .colab-df-convert:hover {\n",
              "      background-color: #434B5C;\n",
              "      box-shadow: 0px 1px 3px 1px rgba(0, 0, 0, 0.15);\n",
              "      filter: drop-shadow(0px 1px 2px rgba(0, 0, 0, 0.3));\n",
              "      fill: #FFFFFF;\n",
              "    }\n",
              "  </style>\n",
              "\n",
              "    <script>\n",
              "      const buttonEl =\n",
              "        document.querySelector('#df-d1b29a58-2473-43e2-a02f-ce9336928316 button.colab-df-convert');\n",
              "      buttonEl.style.display =\n",
              "        google.colab.kernel.accessAllowed ? 'block' : 'none';\n",
              "\n",
              "      async function convertToInteractive(key) {\n",
              "        const element = document.querySelector('#df-d1b29a58-2473-43e2-a02f-ce9336928316');\n",
              "        const dataTable =\n",
              "          await google.colab.kernel.invokeFunction('convertToInteractive',\n",
              "                                                    [key], {});\n",
              "        if (!dataTable) return;\n",
              "\n",
              "        const docLinkHtml = 'Like what you see? Visit the ' +\n",
              "          '<a target=\"_blank\" href=https://colab.research.google.com/notebooks/data_table.ipynb>data table notebook</a>'\n",
              "          + ' to learn more about interactive tables.';\n",
              "        element.innerHTML = '';\n",
              "        dataTable['output_type'] = 'display_data';\n",
              "        await google.colab.output.renderOutput(dataTable, element);\n",
              "        const docLink = document.createElement('div');\n",
              "        docLink.innerHTML = docLinkHtml;\n",
              "        element.appendChild(docLink);\n",
              "      }\n",
              "    </script>\n",
              "  </div>\n",
              "\n",
              "\n",
              "  <div id=\"id_9fc9982e-c9b5-476c-a676-a98f8b2d4d23\">\n",
              "    <style>\n",
              "      .colab-df-generate {\n",
              "        background-color: #E8F0FE;\n",
              "        border: none;\n",
              "        border-radius: 50%;\n",
              "        cursor: pointer;\n",
              "        display: none;\n",
              "        fill: #1967D2;\n",
              "        height: 32px;\n",
              "        padding: 0 0 0 0;\n",
              "        width: 32px;\n",
              "      }\n",
              "\n",
              "      .colab-df-generate:hover {\n",
              "        background-color: #E2EBFA;\n",
              "        box-shadow: 0px 1px 2px rgba(60, 64, 67, 0.3), 0px 1px 3px 1px rgba(60, 64, 67, 0.15);\n",
              "        fill: #174EA6;\n",
              "      }\n",
              "\n",
              "      [theme=dark] .colab-df-generate {\n",
              "        background-color: #3B4455;\n",
              "        fill: #D2E3FC;\n",
              "      }\n",
              "\n",
              "      [theme=dark] .colab-df-generate:hover {\n",
              "        background-color: #434B5C;\n",
              "        box-shadow: 0px 1px 3px 1px rgba(0, 0, 0, 0.15);\n",
              "        filter: drop-shadow(0px 1px 2px rgba(0, 0, 0, 0.3));\n",
              "        fill: #FFFFFF;\n",
              "      }\n",
              "    </style>\n",
              "    <button class=\"colab-df-generate\" onclick=\"generateWithVariable('log_df')\"\n",
              "            title=\"Generate code using this dataframe.\"\n",
              "            style=\"display:none;\">\n",
              "\n",
              "  <svg xmlns=\"http://www.w3.org/2000/svg\" height=\"24px\"viewBox=\"0 0 24 24\"\n",
              "       width=\"24px\">\n",
              "    <path d=\"M7,19H8.4L18.45,9,17,7.55,7,17.6ZM5,21V16.75L18.45,3.32a2,2,0,0,1,2.83,0l1.4,1.43a1.91,1.91,0,0,1,.58,1.4,1.91,1.91,0,0,1-.58,1.4L9.25,21ZM18.45,9,17,7.55Zm-12,3A5.31,5.31,0,0,0,4.9,8.1,5.31,5.31,0,0,0,1,6.5,5.31,5.31,0,0,0,4.9,4.9,5.31,5.31,0,0,0,6.5,1,5.31,5.31,0,0,0,8.1,4.9,5.31,5.31,0,0,0,12,6.5,5.46,5.46,0,0,0,6.5,12Z\"/>\n",
              "  </svg>\n",
              "    </button>\n",
              "    <script>\n",
              "      (() => {\n",
              "      const buttonEl =\n",
              "        document.querySelector('#id_9fc9982e-c9b5-476c-a676-a98f8b2d4d23 button.colab-df-generate');\n",
              "      buttonEl.style.display =\n",
              "        google.colab.kernel.accessAllowed ? 'block' : 'none';\n",
              "\n",
              "      buttonEl.onclick = () => {\n",
              "        google.colab.notebook.generateWithVariable('log_df');\n",
              "      }\n",
              "      })();\n",
              "    </script>\n",
              "  </div>\n",
              "\n",
              "    </div>\n",
              "  </div>\n"
            ],
            "application/vnd.google.colaboratory.intrinsic+json": {
              "type": "dataframe",
              "variable_name": "log_df",
              "summary": "{\n  \"name\": \"log_df\",\n  \"rows\": 1,\n  \"fields\": [\n    {\n      \"column\": \"Experiment Number\",\n      \"properties\": {\n        \"dtype\": \"number\",\n        \"std\": null,\n        \"min\": 12,\n        \"max\": 12,\n        \"num_unique_values\": 1,\n        \"samples\": [\n          12\n        ],\n        \"semantic_type\": \"\",\n        \"description\": \"\"\n      }\n    },\n    {\n      \"column\": \"Layers\",\n      \"properties\": {\n        \"dtype\": \"string\",\n        \"num_unique_values\": 1,\n        \"samples\": [\n          \"[100, 64, 32, 1]\"\n        ],\n        \"semantic_type\": \"\",\n        \"description\": \"\"\n      }\n    },\n    {\n      \"column\": \"Learning Rate\",\n      \"properties\": {\n        \"dtype\": \"number\",\n        \"std\": null,\n        \"min\": 0.036,\n        \"max\": 0.036,\n        \"num_unique_values\": 1,\n        \"samples\": [\n          0.036\n        ],\n        \"semantic_type\": \"\",\n        \"description\": \"\"\n      }\n    },\n    {\n      \"column\": \"L2 Lambda\",\n      \"properties\": {\n        \"dtype\": \"number\",\n        \"std\": null,\n        \"min\": 0.01,\n        \"max\": 0.01,\n        \"num_unique_values\": 1,\n        \"samples\": [\n          0.01\n        ],\n        \"semantic_type\": \"\",\n        \"description\": \"\"\n      }\n    },\n    {\n      \"column\": \"MSE\",\n      \"properties\": {\n        \"dtype\": \"number\",\n        \"std\": null,\n        \"min\": 0.1493011494984584,\n        \"max\": 0.1493011494984584,\n        \"num_unique_values\": 1,\n        \"samples\": [\n          0.1493011494984584\n        ],\n        \"semantic_type\": \"\",\n        \"description\": \"\"\n      }\n    },\n    {\n      \"column\": \"RMSE\",\n      \"properties\": {\n        \"dtype\": \"number\",\n        \"std\": null,\n        \"min\": 0.386395069195323,\n        \"max\": 0.386395069195323,\n        \"num_unique_values\": 1,\n        \"samples\": [\n          0.386395069195323\n        ],\n        \"semantic_type\": \"\",\n        \"description\": \"\"\n      }\n    },\n    {\n      \"column\": \"MAE\",\n      \"properties\": {\n        \"dtype\": \"number\",\n        \"std\": null,\n        \"min\": 0.3157058538181144,\n        \"max\": 0.3157058538181144,\n        \"num_unique_values\": 1,\n        \"samples\": [\n          0.3157058538181144\n        ],\n        \"semantic_type\": \"\",\n        \"description\": \"\"\n      }\n    },\n    {\n      \"column\": \"R\\u00b2\",\n      \"properties\": {\n        \"dtype\": \"number\",\n        \"std\": null,\n        \"min\": 0.7043877742999225,\n        \"max\": 0.7043877742999225,\n        \"num_unique_values\": 1,\n        \"samples\": [\n          0.7043877742999225\n        ],\n        \"semantic_type\": \"\",\n        \"description\": \"\"\n      }\n    }\n  ]\n}"
            }
          },
          "metadata": {}
        }
      ]
    }
  ]
}